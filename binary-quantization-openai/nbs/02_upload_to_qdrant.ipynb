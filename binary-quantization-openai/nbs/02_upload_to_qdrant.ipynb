{
 "cells": [
  {
   "cell_type": "code",
   "execution_count": 1,
   "metadata": {},
   "outputs": [
    {
     "data": {
      "text/plain": [
       "1"
      ]
     },
     "execution_count": 1,
     "metadata": {},
     "output_type": "execute_result"
    }
   ],
   "source": [
    "# Code of your application, which uses environment variables (e.g. from `os.environ` or\n",
    "# `os.getenv`) as if they came from the actual environment.\n",
    "import json\n",
    "import os\n",
    "\n",
    "import loguru\n",
    "import numpy as np\n",
    "from datasets import load_dataset\n",
    "from dotenv import load_dotenv\n",
    "from qdrant_client import QdrantClient, models\n",
    "from qdrant_client.models import PointStruct\n",
    "from tqdm import tqdm\n",
    "\n",
    "load_dotenv()  # take environment variables from .env.\n",
    "logger = loguru.logger\n",
    "logger.add(\"logs.log\", format=\"{time} {level} {message}\", level=\"INFO\")"
   ]
  },
  {
   "cell_type": "code",
   "execution_count": 2,
   "metadata": {},
   "outputs": [],
   "source": [
    "DIMENSIONS = 1536\n",
    "MODEL_NAME = \"text-embedding-3-large\"\n",
    "DATASET_NAME = f\"Qdrant/dbpedia-entities-openai3-{MODEL_NAME}-{DIMENSIONS}-100K\"\n",
    "# DATASET_NAME = \"Qdrant/dbpedia-entities-openai3-small-512-100K\""
   ]
  },
  {
   "cell_type": "code",
   "execution_count": 3,
   "metadata": {},
   "outputs": [],
   "source": [
    "dataset = load_dataset(\n",
    "    DATASET_NAME,\n",
    "    streaming=False,\n",
    "    split=\"train\",\n",
    ")\n",
    "points = [\n",
    "    {\n",
    "        \"id\": i,\n",
    "        \"vector\": embedding,\n",
    "        \"payload\": {\"text\": data[\"text\"], \"title\": data[\"title\"]},\n",
    "    }\n",
    "    for i, (embedding, data) in enumerate(zip(dataset[\"embedding\"], dataset))\n",
    "]\n",
    "points = [PointStruct(**point) for point in points]"
   ]
  },
  {
   "cell_type": "code",
   "execution_count": 4,
   "metadata": {},
   "outputs": [],
   "source": [
    "client = QdrantClient(\n",
    "    url=os.getenv(\"QDRANT_URL\"),\n",
    "    api_key=os.getenv(\"QDRANT_API_KEY\"),\n",
    "    timeout=100,\n",
    ")"
   ]
  },
  {
   "cell_type": "code",
   "execution_count": 5,
   "metadata": {},
   "outputs": [],
   "source": [
    "collection_name = f\"dbpedia-{MODEL_NAME}-{DIMENSIONS}\""
   ]
  },
  {
   "cell_type": "code",
   "execution_count": 6,
   "metadata": {},
   "outputs": [
    {
     "data": {
      "text/plain": [
       "True"
      ]
     },
     "execution_count": 6,
     "metadata": {},
     "output_type": "execute_result"
    }
   ],
   "source": [
    "client.recreate_collection(\n",
    "    collection_name=collection_name,\n",
    "    vectors_config=models.VectorParams(\n",
    "        size=DIMENSIONS,\n",
    "        distance=models.Distance.COSINE,\n",
    "    ),\n",
    "    optimizers_config=models.OptimizersConfigDiff(\n",
    "        indexing_threshold=0,\n",
    "    ),\n",
    "    quantization_config=models.BinaryQuantization(\n",
    "        binary=models.BinaryQuantizationConfig(always_ram=True),\n",
    "    ),\n",
    "    shard_number=2,\n",
    ")"
   ]
  },
  {
   "cell_type": "code",
   "execution_count": 7,
   "metadata": {},
   "outputs": [
    {
     "name": "stderr",
     "output_type": "stream",
     "text": [
      "\u001b[32m2024-01-29 14:16:58.923\u001b[0m | \u001b[1mINFO    \u001b[0m | \u001b[36m__main__\u001b[0m:\u001b[36m<module>\u001b[0m:\u001b[36m4\u001b[0m - \u001b[1mCollection is empty. Begin upsert.\u001b[0m\n",
      "100%|██████████| 200/200 [06:13<00:00,  1.87s/it]\n"
     ]
    }
   ],
   "source": [
    "collection_info = client.get_collection(collection_name=collection_name)\n",
    "\n",
    "if collection_info.vectors_count == 0:\n",
    "    logger.info(\"Collection is empty. Begin upsert.\")\n",
    "    bs = 500  # Batch size\n",
    "    for i in tqdm(range(0, len(points), bs)):\n",
    "        slice_points = points[i : i + bs]  # Create a slice of bs points\n",
    "        client.upsert(collection_name=collection_name, points=slice_points)"
   ]
  },
  {
   "cell_type": "code",
   "execution_count": 8,
   "metadata": {},
   "outputs": [
    {
     "data": {
      "text/plain": [
       "100000"
      ]
     },
     "execution_count": 8,
     "metadata": {},
     "output_type": "execute_result"
    }
   ],
   "source": [
    "collection_info = client.get_collection(collection_name=collection_name)\n",
    "collection_info.vectors_count"
   ]
  },
  {
   "cell_type": "markdown",
   "metadata": {},
   "source": [
    "## Turn on Indexing"
   ]
  },
  {
   "cell_type": "code",
   "execution_count": 9,
   "metadata": {},
   "outputs": [
    {
     "data": {
      "text/plain": [
       "True"
      ]
     },
     "execution_count": 9,
     "metadata": {},
     "output_type": "execute_result"
    }
   ],
   "source": [
    "client.update_collection(\n",
    "    collection_name=f\"{collection_name}\",\n",
    "    optimizer_config=models.OptimizersConfigDiff(indexing_threshold=20000),\n",
    ")"
   ]
  },
  {
   "cell_type": "code",
   "execution_count": 10,
   "metadata": {},
   "outputs": [
    {
     "data": {
      "text/plain": [
       "[ScoredPoint(id=32, version=0, score=1.0000001, payload={'text': \"Ray Bidwell Collins (December 10, 1889 – July 11, 1965) was an American character actor in stock and Broadway theatre, radio, films and television. With 900 stage roles to his credit, he became one of the most successful actors in the developing field of radio drama. A friend and associate of Orson Welles for many years, Collins went to Hollywood with the Mercury Theatre company and made his feature film debut in Citizen Kane, as Kane's ruthless political rival.\", 'title': 'Ray Collins (actor)'}, vector=None, shard_key=None),\n",
       " ScoredPoint(id=6108, version=12, score=0.5336138, payload={'text': 'Charles Henry Collingwood (born 30 May 1943), is a British actor.', 'title': 'Charles Collingwood (actor)'}, vector=None, shard_key=None),\n",
       " ScoredPoint(id=45230, version=90, score=0.51626015, payload={'text': 'Raymond ‘Ray’ Carney (born February 28, 1947), is an American scholar and critic, primarily known for his work as a film theorist, although he writes extensively on American art and literature as well. He is known for his study of the works of actor and director John Cassavetes. He teaches in the American Studies department at Boston University and has published several books on American art and film.', 'title': 'Ray Carney'}, vector=None, shard_key=None),\n",
       " ScoredPoint(id=66765, version=133, score=0.5021308, payload={'text': 'Raymond Walter \"Ray\" Goulding (March 20, 1922 – March 24, 1990) was an American comedian, who, together with Bob Elliott formed the comedy duo of Bob and Ray.He was born in Lowell, Massachusetts, the fourth of five children of Thomas Goulding, an overseer in a textile mill, and his wife Mary.', 'title': 'Ray Goulding'}, vector=None, shard_key=None),\n",
       " ScoredPoint(id=89053, version=178, score=0.5019822, payload={'text': 'Ray Milland (3 January 1907– 10 March 1986) was a Welsh actor and director. His screen career ran from 1929 to 1985, and he is best remembered for his Academy Award–winning portrayal of an alcoholic writer in The Lost Weekend (1945), a sophisticated leading man opposite a corrupt John Wayne in Reap the Wild Wind (1942), the murder-plotting husband in Dial M for Murder (1954), and as Oliver Barrett III in Love Story (1970).', 'title': 'Ray Milland'}, vector=None, shard_key=None)]"
      ]
     },
     "execution_count": 10,
     "metadata": {},
     "output_type": "execute_result"
    }
   ],
   "source": [
    "client.search(\n",
    "    collection_name=f\"{collection_name}\",\n",
    "    query_vector=points[32].vector,\n",
    "    search_params=models.SearchParams(\n",
    "        quantization=models.QuantizationSearchParams(\n",
    "            ignore=False,\n",
    "            rescore=False,\n",
    "            oversampling=2.0,\n",
    "        ),\n",
    "        exact=True,\n",
    "    ),\n",
    "    limit=5,\n",
    ")"
   ]
  },
  {
   "cell_type": "markdown",
   "metadata": {},
   "source": [
    "## Create a valuation split for the BQ to Compare exact with approximate"
   ]
  },
  {
   "cell_type": "code",
   "execution_count": null,
   "metadata": {},
   "outputs": [],
   "source": [
    "ds = dataset.train_test_split(test_size=0.1, shuffle=True, seed=37)[\"test\"]"
   ]
  },
  {
   "cell_type": "code",
   "execution_count": null,
   "metadata": {},
   "outputs": [],
   "source": [
    "oversampling_range = np.arange(1.0, 3.1, 1.0)\n",
    "rescore_range = [True, False]\n",
    "\n",
    "\n",
    "def parameterized_search(\n",
    "    point,\n",
    "    oversampling: float,\n",
    "    rescore: bool,\n",
    "    exact: bool,\n",
    "    collection_name: str,\n",
    "    ignore: bool = False,\n",
    "    limit: int = 10,\n",
    "):\n",
    "    if exact:\n",
    "        return client.search(\n",
    "            collection_name=collection_name,\n",
    "            query_vector=point.vector,\n",
    "            search_params=models.SearchParams(exact=exact),\n",
    "            limit=limit,\n",
    "        )\n",
    "    else:\n",
    "        return client.search(\n",
    "            collection_name=collection_name,\n",
    "            query_vector=point.vector,\n",
    "            search_params=models.SearchParams(\n",
    "                quantization=models.QuantizationSearchParams(\n",
    "                    ignore=ignore,\n",
    "                    rescore=rescore,\n",
    "                    oversampling=oversampling,\n",
    "                ),\n",
    "                exact=exact,\n",
    "            ),\n",
    "            limit=limit,\n",
    "        )\n",
    "\n",
    "\n",
    "results = []\n",
    "with open(\"results.json\", \"w+\") as f:\n",
    "    for point in tqdm(points[10:100]):\n",
    "        # print(element.payload[\"text\"])\n",
    "        # print(\"Oversampling\")\n",
    "\n",
    "        ## Running Grid Search\n",
    "        for oversampling in oversampling_range:\n",
    "            for rescore in rescore_range:\n",
    "                limit_range = [100, 50, 20, 10, 5, 1]\n",
    "                for limit in limit_range:\n",
    "                    try:\n",
    "                        exact = parameterized_search(\n",
    "                            point=point,\n",
    "                            oversampling=oversampling,\n",
    "                            rescore=rescore,\n",
    "                            exact=True,\n",
    "                            collection_name=collection_name,\n",
    "                            limit=limit,\n",
    "                        )\n",
    "                        hnsw = parameterized_search(\n",
    "                            point=point,\n",
    "                            oversampling=oversampling,\n",
    "                            rescore=rescore,\n",
    "                            exact=False,\n",
    "                            collection_name=collection_name,\n",
    "                            limit=limit,\n",
    "                        )\n",
    "                    except Exception as e:\n",
    "                        print(f\"Skipping point: {point}\\n{e}\")\n",
    "                        continue\n",
    "\n",
    "                    exact_ids = [item.id for item in exact]\n",
    "                    hnsw_ids = [item.id for item in hnsw]\n",
    "                    logger.info(f\"Exact: {exact_ids}\")\n",
    "                    logger.info(f\"HNSW: {hnsw_ids}\")\n",
    "\n",
    "                    accuracy = len(set(exact_ids) & set(hnsw_ids)) / len(exact_ids)\n",
    "\n",
    "                    if accuracy is None:\n",
    "                        continue\n",
    "\n",
    "                    result = {\n",
    "                        \"query_id\": point.id,\n",
    "                        \"oversampling\": oversampling,\n",
    "                        \"rescore\": rescore,\n",
    "                        \"limit\": limit,\n",
    "                        \"accuracy\": accuracy,\n",
    "                    }\n",
    "                    f.write(json.dumps(result))\n",
    "                    f.write(\"\\n\")\n",
    "                    logger.info(result)"
   ]
  },
  {
   "cell_type": "code",
   "execution_count": null,
   "metadata": {},
   "outputs": [],
   "source": [
    "import pandas as pd\n",
    "\n",
    "results = pd.read_json(\"results.json\", lines=True)"
   ]
  },
  {
   "cell_type": "code",
   "execution_count": null,
   "metadata": {},
   "outputs": [],
   "source": [
    "\n",
    "# results.to_csv(\"results.csv\", index=False)\n",
    "average_accuracy = results[results[\"limit\"] != 1]\n",
    "average_accuracy = average_accuracy[average_accuracy[\"limit\"] != 5]\n",
    "average_accuracy = average_accuracy.groupby([\"oversampling\", \"rescore\", \"limit\"])[\n",
    "    \"accuracy\"\n",
    "].mean()\n",
    "average_accuracy = average_accuracy.reset_index()\n",
    "acc = average_accuracy.pivot(\n",
    "    index=\"limit\", columns=[\"oversampling\", \"rescore\"], values=\"accuracy\"\n",
    ")\n",
    "acc"
   ]
  }
 ],
 "metadata": {
  "kernelspec": {
   "display_name": "fastembed",
   "language": "python",
   "name": "python3"
  },
  "language_info": {
   "codemirror_mode": {
    "name": "ipython",
    "version": 3
   },
   "file_extension": ".py",
   "mimetype": "text/x-python",
   "name": "python",
   "nbconvert_exporter": "python",
   "pygments_lexer": "ipython3",
   "version": "3.11.7"
  }
 },
 "nbformat": 4,
 "nbformat_minor": 2
}
