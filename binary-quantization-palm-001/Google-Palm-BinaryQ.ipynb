{
 "cells": [
  {
   "cell_type": "code",
   "execution_count": 11,
   "id": "9d503406",
   "metadata": {},
   "outputs": [],
   "source": [
    "# !pip install -U huggingface_hub datasets qdrant-client seaborn"
   ]
  },
  {
   "cell_type": "code",
   "execution_count": 16,
   "id": "1af4a9ca-bee3-433a-a87a-64bc4c55af75",
   "metadata": {},
   "outputs": [],
   "source": [
    "import os\n",
    "import time\n",
    "import json\n",
    "\n",
    "import numpy as np\n",
    "import pandas as pd\n",
    "import seaborn as sns\n",
    "from tqdm import tqdm\n",
    "\n",
    "from datasets import load_dataset\n",
    "from qdrant_client import QdrantClient, models\n",
    "from qdrant_client.models import PointStruct"
   ]
  },
  {
   "cell_type": "code",
   "execution_count": 2,
   "id": "5b0843f0",
   "metadata": {},
   "outputs": [
    {
     "name": "stdout",
     "output_type": "stream",
     "text": [
      "Token will not been saved to git credential helper. Pass `add_to_git_credential=True` if you want to set the git credential as well.\n",
      "Token is valid (permission: write).\n",
      "Your token has been saved to /Users/nirantk/.cache/huggingface/token\n",
      "Login successful\n"
     ]
    }
   ],
   "source": []
  },
  {
   "cell_type": "code",
   "execution_count": 18,
   "id": "dcc0520d",
   "metadata": {},
   "outputs": [
    {
     "data": {
      "text/plain": [
       "Dataset({\n",
       "    features: ['_id', 'title', 'text', 'embedding'],\n",
       "    num_rows: 100000\n",
       "})"
      ]
     },
     "execution_count": 18,
     "metadata": {},
     "output_type": "execute_result"
    }
   ],
   "source": [
    "dataset = load_dataset(\"nirantk/dbpedia-entities-google-palm-gemini-embedding-001-100K\", streaming=False, split='train')\n",
    "dataset"
   ]
  },
  {
   "cell_type": "code",
   "execution_count": 4,
   "id": "47e3baef-2746-47ee-a195-1f1ba37b44b5",
   "metadata": {},
   "outputs": [],
   "source": [
    "client = QdrantClient(\n",
    "    url=\"https://a4197291-1236-40e0-bf18-18e8843a05a2.us-east4-0.gcp.cloud.qdrant.io:6333\", \n",
    "    api_key=os.getenv(\"QDRANT_API_KEY\"),\n",
    "    timeout=100,\n",
    "    prefer_grpc=True\n",
    ")"
   ]
  },
  {
   "cell_type": "markdown",
   "id": "3cd6a7e3",
   "metadata": {},
   "source": [
    "# Setting up a Collection with Binary Quantization"
   ]
  },
  {
   "cell_type": "code",
   "execution_count": 5,
   "id": "b1c8eb96",
   "metadata": {},
   "outputs": [],
   "source": [
    "collection_name = \"gemini-embedding-001\""
   ]
  },
  {
   "cell_type": "code",
   "execution_count": 6,
   "id": "db5bb6fb-f93e-42c8-b440-d0b771ef8dab",
   "metadata": {},
   "outputs": [],
   "source": [
    "# client.recreate_collection(\n",
    "#     collection_name=f\"{collection_name}\",\n",
    "#     vectors_config=models.VectorParams(\n",
    "#         size=768,\n",
    "#         distance=models.Distance.COSINE,\n",
    "#         on_disk=True,\n",
    "#     ),\n",
    "#     optimizers_config=models.OptimizersConfigDiff(\n",
    "#         default_segment_number=5,\n",
    "#         indexing_threshold=0,\n",
    "#     ),\n",
    "#     quantization_config=models.BinaryQuantization(\n",
    "#         binary=models.BinaryQuantizationConfig(always_ram=True),\n",
    "#     ),\n",
    "#     shard_number=2,\n",
    "# )"
   ]
  },
  {
   "cell_type": "code",
   "execution_count": 19,
   "id": "60426ff7-52f8-4974-9e6e-56087863a0e7",
   "metadata": {},
   "outputs": [],
   "source": [
    "collection_info = client.get_collection(collection_name=collection_name)\n",
    "\n",
    "points=[\n",
    "        {\n",
    "            \"id\": i,\n",
    "            \"vector\": embedding,\n",
    "            \"payload\": {\"text\": data[\"text\"], \"title\": data[\"title\"]}\n",
    "        }\n",
    "        for i, (embedding, data) in enumerate(zip(dataset[\"embedding\"], dataset))\n",
    "    ]\n",
    "points = [PointStruct(**point) for point in points]\n",
    "\n",
    "if collection_info.vectors_count == 0:\n",
    "    print(\"Collection is empty. Begin indexing.\")\n",
    "    bs = 100 # Batch size    \n",
    "    for i in tqdm(range(0, len(points), bs)):\n",
    "        slice_points = points[i:i+bs]  # Create a slice of bs points\n",
    "        client.upsert(\n",
    "            collection_name=collection_name,\n",
    "            points=slice_points\n",
    "        )\n",
    "    client.update_collection(\n",
    "        collection_name=f\"{collection_name}\",\n",
    "        optimizer_config=models.OptimizersConfigDiff(\n",
    "            indexing_threshold=20000\n",
    "        )\n",
    "    )"
   ]
  },
  {
   "cell_type": "code",
   "execution_count": 20,
   "id": "d3640b36-adcb-41f5-9e2c-e3ec74b1d82f",
   "metadata": {},
   "outputs": [
    {
     "data": {
      "text/plain": [
       "100000"
      ]
     },
     "execution_count": 20,
     "metadata": {},
     "output_type": "execute_result"
    }
   ],
   "source": [
    "collection_info = client.get_collection(collection_name=collection_name)\n",
    "collection_info.vectors_count"
   ]
  },
  {
   "cell_type": "code",
   "execution_count": 49,
   "id": "ac42c816-90c8-4a2b-9358-ed9f40283cc6",
   "metadata": {},
   "outputs": [
    {
     "data": {
      "text/plain": [
       "[ScoredPoint(id=32, version=0, score=1.0, payload={'text': 'Sobrassada (Catalan pronunciation: [soβɾəˈsaðə]; Spanish: sobrasada) is a raw, cured sausage from the Balearic Islands made with ground pork, paprika and salt and other spices. Sobrassada, along with botifarró are traditional Balearic sausage meat products prepared in the laborious but festive rites that still mark the autumn and winter pig slaughter known as a matança (in Spanish, matanza) in Majorca and Eivissa.', 'title': 'Sobrassada'}, vector=None, shard_key=None),\n",
       " ScoredPoint(id=78000, version=780, score=0.7025156617164612, payload={'text': 'Tamborrada of Donostia (in Basque Donostiako Danborrada) is a celebratory drum festival held every year on January 20 in the city of San Sebastián, Spain. At midnight, in the Konstituzio Plaza in the \"Alde Zaharra/Parte Vieja\" (Old Town), the mayor raises the flag of San Sebastián. The festival lasts for 24 hours. Participants, dressed as cooks and soldiers, march in companies across the city.', 'title': 'Tamborrada'}, vector=None, shard_key=None),\n",
       " ScoredPoint(id=73313, version=733, score=0.6988406777381897, payload={'text': \"Machaca About this sound ma't͡ʃaka  is a traditionally dried meat, spiced beef or pork, which has been rehydrated and used in the popular local cuisine of Northern Mexico and Southwestern United States and which is easily available from many ethnic groceries and supermarkets in these areas.\", 'title': 'Machaca'}, vector=None, shard_key=None),\n",
       " ScoredPoint(id=89163, version=891, score=0.6968250274658203, payload={'text': 'Pallars Sobirà (Catalan pronunciation: [pəˈʎaz suβiˈɾa], locally: [paˈʎaz soβiˈɾa]) is a comarca (comparable to a county or shire in much of the English-speaking world) in the mountainous northwest of Catalonia, Spain. The name means \"Upper Pallars\", distinguishing it from the more populous (and less mountainous) Pallars Jussà to its southwest.', 'title': 'Pallars Sobirà'}, vector=None, shard_key=None),\n",
       " ScoredPoint(id=24212, version=242, score=0.6794936656951904, payload={'text': \"Barbacoa (About this sound barba'koa ) is a form of cooking meat that originated in the Caribbean with the Taíno people, from which the term “barbecue” derives. In contemporary Mexico, it generally refers to meats or whole sheep slow-cooked over an open fire, or more traditionally, in a hole dug in the ground covered with maguey leaves, although the interpretation is loose, and in the present day (and in some cases) may refer to meat steamed until tender.\", 'title': 'Barbacoa'}, vector=None, shard_key=None)]"
      ]
     },
     "execution_count": 49,
     "metadata": {},
     "output_type": "execute_result"
    }
   ],
   "source": [
    "client.search(\n",
    "    collection_name=f\"{collection_name}\",\n",
    "    query_vector=points[32].vector,\n",
    "    search_params=models.SearchParams(\n",
    "        quantization=models.QuantizationSearchParams(\n",
    "            ignore=False,\n",
    "            rescore=False,\n",
    "            oversampling=2.0,\n",
    "        ),\n",
    "        exact=True,\n",
    "    ),\n",
    "    limit=5\n",
    ")"
   ]
  },
  {
   "cell_type": "code",
   "execution_count": 52,
   "id": "c59e5ae6",
   "metadata": {},
   "outputs": [],
   "source": [
    "ds = dataset.train_test_split(test_size=0.1, shuffle=True, seed=37)['test']"
   ]
  },
  {
   "cell_type": "code",
   "execution_count": 24,
   "id": "2b35e254",
   "metadata": {},
   "outputs": [
    {
     "name": "stderr",
     "output_type": "stream",
     "text": [
      " 13%|█▎        | 132/1000 [05:06<33:33,  2.32s/it]"
     ]
    }
   ],
   "source": [
    "oversampling_range = np.arange(1.0, 3.0, 0.5)\n",
    "rescore_range = [True, False]\n",
    "\n",
    "def parameterized_search(\n",
    "        point, \n",
    "        oversampling: float, \n",
    "        rescore: bool, \n",
    "        exact: bool, \n",
    "        collection_name: str, \n",
    "        ignore: bool = False,\n",
    "        limit: int = 10\n",
    "    ):\n",
    "    return client.search(\n",
    "        collection_name=collection_name,\n",
    "        query_vector=point.vector,\n",
    "        search_params=models.SearchParams(\n",
    "            quantization=models.QuantizationSearchParams(\n",
    "                ignore=ignore, # Whether Qdrant should ignore the quantization index\n",
    "                rescore=rescore,\n",
    "                oversampling=oversampling,\n",
    "            ),\n",
    "            exact=exact,     \n",
    "        ),\n",
    "        limit=limit\n",
    "    )\n",
    "\n",
    "results = []\n",
    "with open(\"results.json\", \"w\") as f:\n",
    "    for element in tqdm(points[:1000]):\n",
    "        # print(element.payload[\"text\"])\n",
    "        # print(\"Oversampling\")\n",
    "        for oversampling in oversampling_range:\n",
    "            for rescore in rescore_range:\n",
    "                start = time.time()\n",
    "                binary_quantization_results = parameterized_search(element, oversampling=oversampling, rescore=rescore, exact=False, collection_name=collection_name)\n",
    "                end = time.time()\n",
    "                id = element.id\n",
    "                for k in [1, 3, 5, 10]:\n",
    "                    selected_results = binary_quantization_results[:k]\n",
    "                    ids = [result.id for result in selected_results]\n",
    "                    present = id in ids\n",
    "                    f.write(json.dumps({\n",
    "                        \"query_id\": id,\n",
    "                        \"oversampling\": oversampling,\n",
    "                        \"rescore\": rescore,\n",
    "                        \"k\": k,\n",
    "                        \"present\": present,\n",
    "                        \"score\": selected_results[ids.index(id)].score if present else None,\n",
    "                        \"turnaround_time\": end - start\n",
    "                    }))\n",
    "                    f.write(\"\\n\")\n",
    "\n",
    "                    results.append({\n",
    "                        \"id\": id,\n",
    "                        \"oversampling\": oversampling,\n",
    "                        \"rescore\": rescore,\n",
    "                        \"k\": k,\n",
    "                        \"present\": present,\n",
    "                        \"score\": selected_results[ids.index(id)].score,\n",
    "                        \"turnaround_time\": end - start\n",
    "                    })\n",
    "                "
   ]
  },
  {
   "cell_type": "code",
   "execution_count": 79,
   "id": "10bf7f19",
   "metadata": {},
   "outputs": [
    {
     "data": {
      "text/plain": [
       "<Axes: xlabel='oversampling,rescore'>"
      ]
     },
     "execution_count": 79,
     "metadata": {},
     "output_type": "execute_result"
    },
    {
     "data": {
      "image/png": "[encoded data removed]",
      "text/plain": [
       "<Figure size 1000x500 with 1 Axes>"
      ]
     },
     "metadata": {},
     "output_type": "display_data"
    }
   ],
   "source": [
    "df = pd.DataFrame(results)\n",
    "df[df['score'] > 0.9].groupby(['oversampling', 'rescore', 'k']).mean()['present'].unstack().plot(kind='bar', figsize=(10, 5))\n",
    "# sum(df.present) / len(df)"
   ]
  },
  {
   "cell_type": "code",
   "execution_count": null,
   "id": "8b99eb24",
   "metadata": {},
   "outputs": [],
   "source": []
  }
 ],
 "metadata": {
  "kernelspec": {
   "display_name": "Python 3 (ipykernel)",
   "language": "python",
   "name": "python3"
  },
  "language_info": {
   "codemirror_mode": {
    "name": "ipython",
    "version": 3
   },
   "file_extension": ".py",
   "mimetype": "text/x-python",
   "name": "python",
   "nbconvert_exporter": "python",
   "pygments_lexer": "ipython3",
   "version": "3.9.17"
  }
 },
 "nbformat": 4,
 "nbformat_minor": 5
}
