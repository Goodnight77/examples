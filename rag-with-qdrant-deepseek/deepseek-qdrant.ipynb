{
 "cells": [
  {
   "cell_type": "markdown",
   "id": "be881a6d",
   "metadata": {
    "collapsed": true,
    "jupyter": {
     "outputs_hidden": true
    }
   },
   "source": [
    "# Minimal dependency RAG with DeepSeek and Qdrant\n",
    "\n",
    "In the rapidly advancing field of AI, Large Language Models have made significant strides in understanding and generating human-like text. To improve their factual accuracy, these models significantly benefit from an integration with external knowledge sources.\n",
    "\n",
    "Retrieval Augmented Generation (RAG) is a framework that combines LLMs with real-time retrieval of relevant information, ensuring more accurate and contextually relevant outputs.\n",
    "\n",
    "In this example, we'll showcase an implementation using the latest [DeepSeek-V3](https://www.deepseek.com) model. It leads the way among open-source models and competes with the best closed-source models worldwide."
   ]
  },
  {
   "cell_type": "markdown",
   "id": "bb044259",
   "metadata": {},
   "source": [
    "## Prerequisites\n",
    "\n",
    "Let's start setting up all the pieces to implement the pipeline. We'll try to do this with minimal dependencies. \n",
    "\n",
    "### Preparing the environment"
   ]
  },
  {
   "cell_type": "code",
   "execution_count": null,
   "id": "4ce9f81b",
   "metadata": {
    "ExecuteTime": {
     "end_time": "2023-09-27T10:06:32.977456Z",
     "start_time": "2023-09-27T10:06:30.203757Z"
    },
    "scrolled": true
   },
   "outputs": [],
   "source": [
    "%pip install \"qdrant-client[fastembed]\""
   ]
  },
  {
   "cell_type": "markdown",
   "id": "aae4382a",
   "metadata": {},
   "source": [
    "[Qdrant](https://qdrant.tech) will act as a knowledge base providing the context information for the prompts we'll be sending to the LLM.\n",
    "\n",
    "You can get a free-forever Qdrant cloud instance at http://cloud.qdrant.io. Learn about setting up your instance from the [Quickstart](https://qdrant.tech/documentation/quickstart-cloud/)."
   ]
  },
  {
   "cell_type": "code",
   "execution_count": null,
   "id": "e8f4456c",
   "metadata": {
    "ExecuteTime": {
     "end_time": "2023-09-27T10:06:34.283299Z",
     "start_time": "2023-09-27T10:06:32.980517Z"
    }
   },
   "outputs": [],
   "source": [
    "QDRANT_URL = \"https://xyz-example.eu-central.aws.cloud.qdrant.io:6333\"\n",
    "QDRANT_API_KEY = \"<your-api-key>\""
   ]
  },
  {
   "cell_type": "markdown",
   "id": "a74c7a21",
   "metadata": {},
   "source": [
    "### Instantiating Qdrant Client"
   ]
  },
  {
   "cell_type": "code",
   "execution_count": null,
   "id": "2dd8966b",
   "metadata": {
    "ExecuteTime": {
     "end_time": "2023-09-27T10:06:36.242783Z",
     "start_time": "2023-09-27T10:06:34.289290Z"
    }
   },
   "outputs": [],
   "source": [
    "import qdrant_client\n",
    "\n",
    "client = qdrant_client.QdrantClient(url=QDRANT_URL, api_key=QDRANT_API_KEY)"
   ]
  },
  {
   "cell_type": "markdown",
   "id": "23f54205",
   "metadata": {},
   "source": [
    "### Building the knowledge base\n",
    "\n",
    "Qdrant will use vector embeddings of our facts to enrich the original prompt with some context. Thus, we need to store the vector embeddings and the facts used to generate them.\n",
    "\n",
    "We'll be using the [bge-small-en-v1.5](https://huggingface.co/BAAI/bge-small-en-v1.5) model via [FastEmbed](https://github.com/qdrant/fastembed/) - A lightweight, fast, Python library for embeddings generation.\n",
    "\n",
    "The Qdrant client provides a handy integration with FastEmbed that makes building a knowledge base very straighforward."
   ]
  },
  {
   "cell_type": "code",
   "execution_count": null,
   "id": "43154775",
   "metadata": {
    "ExecuteTime": {
     "end_time": "2023-09-27T10:06:36.692231Z",
     "start_time": "2023-09-27T10:06:36.245915Z"
    }
   },
   "outputs": [],
   "source": [
    "client.set_model(\"BAAI/bge-base-en-v1.5\")\n",
    "\n",
    "client.add(\n",
    "    collection_name=\"knowledge-base\",\n",
    "    # The collection is automatically created if it doesn't exist.\n",
    "    documents=[\n",
    "        \"Qdrant is a vector database & vector similarity search engine. It deploys as an API service providing search for the nearest high-dimensional vectors. With Qdrant, embeddings or neural network encoders can be turned into full-fledged applications for matching, searching, recommending, and much more!\",\n",
    "        \"Docker helps developers build, share, and run applications anywhere — without tedious environment configuration or management.\",\n",
    "        \"PyTorch is a machine learning framework based on the Torch library, used for applications such as computer vision and natural language processing.\",\n",
    "        \"MySQL is an open-source relational database management system (RDBMS). A relational database organizes data into one or more data tables in which data may be related to each other; these relations help structure the data. SQL is a language that programmers use to create, modify and extract data from the relational database, as well as control user access to the database.\",\n",
    "        \"NGINX is a free, open-source, high-performance HTTP server and reverse proxy, as well as an IMAP/POP3 proxy server. NGINX is known for its high performance, stability, rich feature set, simple configuration, and low resource consumption.\",\n",
    "        \"FastAPI is a modern, fast (high-performance), web framework for building APIs with Python 3.7+ based on standard Python type hints.\",\n",
    "        \"SentenceTransformers is a Python framework for state-of-the-art sentence, text and image embeddings. You can use this framework to compute sentence / text embeddings for more than 100 languages. These embeddings can then be compared e.g. with cosine-similarity to find sentences with a similar meaning. This can be useful for semantic textual similar, semantic search, or paraphrase mining.\",\n",
    "        \"The cron command-line utility is a job scheduler on Unix-like operating systems. Users who set up and maintain software environments use cron to schedule jobs (commands or shell scripts), also known as cron jobs, to run periodically at fixed times, dates, or intervals.\",\n",
    "    ]\n",
    ")"
   ]
  },
  {
   "cell_type": "markdown",
   "id": "b36bddd6",
   "metadata": {},
   "source": [
    "## Retrieval Augmented Generation\n",
    "\n",
    "RAG changes the way we interact with Large Language Models. We're converting a knowledge-oriented task, in which the model may create a counterfactual answer, into a language-oriented task. The latter expects the model to extract meaningful information and generate an answer. LLMs, when implemented correctly, are supposed to be carrying out language-oriented tasks.\n",
    "\n",
    "The task starts with the original prompt sent by the user. The same prompt is then vectorized and used as a search query for the most relevant facts. Those facts are combined with the original prompt to build a longer prompt containing more information.\n",
    "\n",
    "But let's start simply by asking our question directly."
   ]
  },
  {
   "cell_type": "code",
   "execution_count": 3,
   "id": "ed31ca63",
   "metadata": {
    "ExecuteTime": {
     "end_time": "2023-09-27T10:06:36.695165Z",
     "start_time": "2023-09-27T10:06:36.695150Z"
    }
   },
   "outputs": [],
   "source": [
    "prompt = \"\"\"\n",
    "What tools should I need to use to build a web service using vector embeddings for search?\n",
    "\"\"\""
   ]
  },
  {
   "cell_type": "markdown",
   "id": "e7d2d7dd",
   "metadata": {},
   "source": [
    "Using the Deepseek API requires providing the API key. You can obtain it from the [DeepSeek platform](https://platform.deepseek.com/api_keys)."
   ]
  },
  {
   "cell_type": "markdown",
   "id": "7bf5c684",
   "metadata": {},
   "source": [
    "Now we can finally call the completion API."
   ]
  },
  {
   "cell_type": "code",
   "execution_count": 7,
   "id": "84c12e72",
   "metadata": {},
   "outputs": [],
   "source": [
    "import requests\n",
    "import json\n",
    "\n",
    "# Fill the environmental variable with your own Deepseek API key\n",
    "# See: https://platform.deepseek.com/api_keys\n",
    "API_KEY = \"<YOUR_DEEPSEEK_KEY>\"\n",
    "\n",
    "HEADERS = {\n",
    "    'Authorization': f'Bearer {API_KEY}',\n",
    "    'Content-Type': 'application/json',\n",
    "}\n",
    "\n",
    "def query_deepseek(prompt):\n",
    "    data = {\n",
    "        'model': 'deepseek-chat',\n",
    "        'messages': [\n",
    "            {'role': 'user', 'content': prompt}\n",
    "        ],\n",
    "        'stream': False\n",
    "    }\n",
    "\n",
    "    response = requests.post(\"https://api.deepseek.com/chat/completions\", headers=HEADERS, data=json.dumps(data))\n",
    "\n",
    "    if response.ok:\n",
    "        result = response.json()\n",
    "        return result['choices'][0]['message']['content']\n",
    "    else:\n",
    "        raise Exception(f\"Error {response.status_code}: {response.text}\")"
   ]
  },
  {
   "cell_type": "code",
   "execution_count": 8,
   "id": "00b08932",
   "metadata": {},
   "outputs": [
    {
     "data": {
      "text/plain": [
       "\"Building a web service that uses vector embeddings for search involves several components, including data processing, embedding generation, storage, search, and serving the service via an API. Below is a list of tools and technologies you can use for each step:\\n\\n---\\n\\n### 1. **Data Processing**\\n   - **Python**: For general data preprocessing and scripting.\\n   - **Pandas**: For handling tabular data.\\n   - **NumPy**: For numerical operations.\\n   - **NLTK/Spacy**: For text preprocessing (tokenization, stemming, etc.).\\n   - **LLM models**: For generating embeddings if you're using pre-trained models.\\n\\n---\\n\\n### 2. **Embedding Generation**\\n   - **Pre-trained Models**:\\n     - Embeddings (e.g., `text-embedding-ada-002`).\\n     - Hugging Face Transformers (e.g., `Sentence-BERT`, `all-MiniLM-L6-v2`).\\n     - Google's Universal Sentence Encoder.\\n   - **Custom Models**:\\n     - TensorFlow/PyTorch: For training custom embedding models.\\n   - **Libraries**:\\n     - `sentence-transformers`: For generating sentence embeddings.\\n     - `transformers`: For using Hugging Face models.\\n\\n---\\n\\n### 3. **Vector Storage**\\n   - **Vector Databases**:\\n     - Pinecone: Managed vector database for similarity search.\\n     - Weaviate: Open-source vector search engine.\\n     - Milvus: Open-source vector database.\\n     - FAISS (Facebook AI Similarity Search): Library for efficient similarity search.\\n     - Qdrant: Open-source vector search engine.\\n     - Redis with RedisAI: For storing and querying vectors.\\n   - **Traditional Databases with Vector Support**:\\n     - PostgreSQL with pgvector extension.\\n     - Elasticsearch with dense vector support.\\n\\n---\\n\\n### 4. **Search and Retrieval**\\n   - **Similarity Search Algorithms**:\\n     - Cosine similarity, Euclidean distance, or dot product for comparing vectors.\\n   - **Libraries**:\\n     - FAISS: For fast nearest-neighbor search.\\n     - Annoy (Approximate Nearest Neighbors Oh Yeah): For approximate nearest neighbor search.\\n   - **Vector Databases**: Most vector databases (e.g., Pinecone, Weaviate) come with built-in search capabilities.\\n\\n---\\n\\n### 5. **Web Service Framework**\\n   - **Backend Frameworks**:\\n     - Flask/Django/FastAPI (Python): For building RESTful APIs.\\n     - Node.js/Express: If you prefer JavaScript.\\n   - **API Documentation**:\\n     - Swagger/OpenAPI: For documenting your API.\\n   - **Authentication**:\\n     - OAuth2, JWT: For securing your API.\\n\\n---\\n\\n### 6. **Deployment**\\n   - **Containerization**:\\n     - Docker: For packaging your application.\\n   - **Orchestration**:\\n     - Kubernetes: For managing containers at scale.\\n   - **Cloud Platforms**:\\n     - AWS (EC2, Lambda, S3).\\n     - Google Cloud (Compute Engine, Cloud Functions).\\n     - Azure (App Service, Functions).\\n   - **Serverless**:\\n     - AWS Lambda, Google Cloud Functions, or Vercel for serverless deployment.\\n\\n---\\n\\n### 7. **Monitoring and Logging**\\n   - **Monitoring**:\\n     - Prometheus + Grafana: For monitoring performance.\\n   - **Logging**:\\n     - ELK Stack (Elasticsearch, Logstash, Kibana).\\n     - Fluentd.\\n   - **Error Tracking**:\\n     - Sentry.\\n\\n---\\n\\n### 8. **Frontend (Optional)**\\n   - **Frontend Frameworks**:\\n     - React, Vue.js, or Angular: For building a user interface.\\n   - **Libraries**:\\n     - Axios: For making API calls from the frontend.\\n\\n---\\n\\n### Example Workflow\\n1. Preprocess your data (e.g., clean text, tokenize).\\n2. Generate embeddings using a pre-trained model (e.g., Hugging Face).\\n3. Store embeddings in a vector database (e.g., Pinecone or FAISS).\\n4. Build a REST API using FastAPI or Flask to handle search queries.\\n5. Deploy the service using Docker and Kubernetes or a serverless platform.\\n6. Monitor and scale the service as needed.\\n\\n---\\n\\n### Example Tools Stack\\n- **Embedding Generation**: Hugging Face `sentence-transformers`.\\n- **Vector Storage**: Pinecone or FAISS.\\n- **Web Framework**: FastAPI.\\n- **Deployment**: Docker + AWS/GCP.\\n\\nBy combining these tools, you can build a scalable and efficient web service for vector embedding-based search.\""
      ]
     },
     "execution_count": 8,
     "metadata": {},
     "output_type": "execute_result"
    }
   ],
   "source": [
    "query_deepseek(prompt)"
   ]
  },
  {
   "cell_type": "markdown",
   "id": "b420d81d",
   "metadata": {},
   "source": [
    "### Extending the prompt\n",
    "\n",
    "Even though the original answer sounds credible, it didn't answer our question correctly. Instead, it gave us a generic description of an application stack. To improve the results, enriching the original prompt with the descriptions of the tools available seems like one of the possibilities. Let's use a semantic knowledge base to augment the prompt with the descriptions of different technologies!"
   ]
  },
  {
   "cell_type": "code",
   "execution_count": 9,
   "id": "ce791ba3",
   "metadata": {
    "ExecuteTime": {
     "end_time": "2023-09-27T10:06:36.702641Z",
     "start_time": "2023-09-27T10:06:36.702619Z"
    }
   },
   "outputs": [
    {
     "data": {
      "text/plain": [
       "[QueryResponse(id='116eb694-f127-4b80-9c94-1177ee578bba', embedding=None, sparse_embedding=None, metadata={'document': 'Qdrant is a vector database & vector similarity search engine. It deploys as an API service providing search for the nearest high-dimensional vectors. With Qdrant, embeddings or neural network encoders can be turned into full-fledged applications for matching, searching, recommending, and much more!'}, document='Qdrant is a vector database & vector similarity search engine. It deploys as an API service providing search for the nearest high-dimensional vectors. With Qdrant, embeddings or neural network encoders can be turned into full-fledged applications for matching, searching, recommending, and much more!', score=0.82907003),\n",
       " QueryResponse(id='61d886cf-af3e-4ab0-bdd5-b52770832666', embedding=None, sparse_embedding=None, metadata={'document': 'FastAPI is a modern, fast (high-performance), web framework for building APIs with Python 3.7+ based on standard Python type hints.'}, document='FastAPI is a modern, fast (high-performance), web framework for building APIs with Python 3.7+ based on standard Python type hints.', score=0.81901294),\n",
       " QueryResponse(id='1d904593-97a2-421b-87f4-12c9eae4c310', embedding=None, sparse_embedding=None, metadata={'document': 'PyTorch is a machine learning framework based on the Torch library, used for applications such as computer vision and natural language processing.'}, document='PyTorch is a machine learning framework based on the Torch library, used for applications such as computer vision and natural language processing.', score=0.80565226)]"
      ]
     },
     "execution_count": 9,
     "metadata": {},
     "output_type": "execute_result"
    }
   ],
   "source": [
    "results = client.query(\n",
    "    collection_name=\"knowledge-base\",\n",
    "    query_text=prompt,\n",
    "    limit=3,\n",
    ")\n",
    "results"
   ]
  },
  {
   "cell_type": "markdown",
   "id": "c6640067",
   "metadata": {},
   "source": [
    "We used the original prompt to perform a semantic search over the set of tool descriptions. Now we can use these descriptions to augment the prompt and create more context."
   ]
  },
  {
   "cell_type": "code",
   "execution_count": 10,
   "id": "a16d8549",
   "metadata": {},
   "outputs": [
    {
     "data": {
      "text/plain": [
       "'Qdrant is a vector database & vector similarity search engine. It deploys as an API service providing search for the nearest high-dimensional vectors. With Qdrant, embeddings or neural network encoders can be turned into full-fledged applications for matching, searching, recommending, and much more!\\nFastAPI is a modern, fast (high-performance), web framework for building APIs with Python 3.7+ based on standard Python type hints.\\nPyTorch is a machine learning framework based on the Torch library, used for applications such as computer vision and natural language processing.'"
      ]
     },
     "execution_count": 10,
     "metadata": {},
     "output_type": "execute_result"
    }
   ],
   "source": [
    "context = \"\\n\".join(r.document for r in results)\n",
    "context"
   ]
  },
  {
   "cell_type": "markdown",
   "id": "a2c04a4e",
   "metadata": {},
   "source": [
    "Finally, let's build a metaprompt, the combination of the assumed role of the LLM, the original question, and the results from our semantic search that will force our LLM to use the provided context. \n",
    "\n",
    "By doing this, we effectively convert the knowledge-oriented task into a language task and hopefully reduce the chances of hallucinations. It also should make the response sound more relevant."
   ]
  },
  {
   "cell_type": "code",
   "execution_count": 11,
   "id": "1fc9a98b",
   "metadata": {},
   "outputs": [
    {
     "name": "stdout",
     "output_type": "stream",
     "text": [
      "\n",
      "You are a software architect. \n",
      "Answer the following question using the provided context. \n",
      "If you can't find the answer, do not pretend you know it, but answer \"I don't know\".\n",
      "\n",
      "Question: What tools should I need to use to build a web service using vector embeddings for search?\n",
      "\n",
      "Context: \n",
      "Qdrant is a vector database & vector similarity search engine. It deploys as an API service providing search for the nearest high-dimensional vectors. With Qdrant, embeddings or neural network encoders can be turned into full-fledged applications for matching, searching, recommending, and much more!\n",
      "FastAPI is a modern, fast (high-performance), web framework for building APIs with Python 3.7+ based on standard Python type hints.\n",
      "PyTorch is a machine learning framework based on the Torch library, used for applications such as computer vision and natural language processing.\n",
      "\n",
      "Answer:\n",
      "\n"
     ]
    }
   ],
   "source": [
    "metaprompt = f\"\"\"\n",
    "You are a software architect. \n",
    "Answer the following question using the provided context. \n",
    "If you can't find the answer, do not pretend you know it, but answer \"I don't know\".\n",
    "\n",
    "Question: {prompt.strip()}\n",
    "\n",
    "Context: \n",
    "{context.strip()}\n",
    "\n",
    "Answer:\n",
    "\"\"\"\n",
    "\n",
    "# Look at the full metaprompt\n",
    "print(metaprompt)"
   ]
  },
  {
   "cell_type": "markdown",
   "id": "9f1a7678",
   "metadata": {},
   "source": [
    "Our current prompt is much longer, and we also used a couple of strategies to make the responses even better:\n",
    "\n",
    "1. The LLM has the role of software architect.\n",
    "2. We provide more context to answer the question.\n",
    "3. If the context contains no meaningful information, the model shouldn't make up an answer.\n",
    "\n",
    "Let's find out if that works as expected."
   ]
  },
  {
   "cell_type": "code",
   "execution_count": null,
   "id": "709b9f38",
   "metadata": {},
   "outputs": [
    {
     "data": {
      "text/plain": [
       "'To build a web service using vector embeddings for search, you can use the following tools:\\n\\n1. **Qdrant**: As a vector database and similarity search engine, Qdrant will handle the storage and retrieval of high-dimensional vectors. It provides an API service for searching and matching vectors, making it ideal for applications that require vector-based search functionality.\\n\\n2. **FastAPI**: This web framework is perfect for building the API layer of your web service. It is fast, easy to use, and based on Python type hints, which makes it a great choice for developing the backend of your service. FastAPI will allow you to expose endpoints that interact with Qdrant for vector search operations.\\n\\n3. **PyTorch**: If you need to generate vector embeddings from your data (e.g., text, images), PyTorch can be used to create and train neural network models that produce these embeddings. PyTorch is a powerful machine learning framework that supports a wide range of applications, including natural language processing and computer vision.\\n\\n### Summary:\\n- **Qdrant** for vector storage and search.\\n- **FastAPI** for building the web service API.\\n- **PyTorch** for generating vector embeddings (if needed).\\n\\nThese tools together provide a robust stack for building a web service that leverages vector embeddings for search functionality.'"
      ]
     },
     "execution_count": 18,
     "metadata": {},
     "output_type": "execute_result"
    }
   ],
   "source": [
    "query_deepseek(metaprompt)"
   ]
  },
  {
   "cell_type": "markdown",
   "id": "1c4120e1-9899-4caa-b974-51d9b3a485be",
   "metadata": {},
   "source": [
    "### Testing out the RAG pipeline\n",
    "\n",
    "By leveraging the semantic context we provided our model is doing a better job answering the question. Let's enclose the RAG as a function, so we can call it more easily for different prompts."
   ]
  },
  {
   "cell_type": "code",
   "execution_count": 12,
   "id": "62ed09d1-2c90-4ffc-9f1d-7beb87bab78b",
   "metadata": {},
   "outputs": [],
   "source": [
    "def rag(question: str, n_points: int = 3) -> str:\n",
    "    results = client.query(\n",
    "        collection_name=\"knowledge-base\",\n",
    "        query_text=question,\n",
    "        limit=n_points,\n",
    "    )\n",
    "\n",
    "    context = \"\\n\".join(r.document for r in results)\n",
    "\n",
    "    metaprompt = f\"\"\"\n",
    "    You are a software architect. \n",
    "    Answer the following question using the provided context. \n",
    "    If you can't find the answer, do not pretend you know it, but only answer \"I don't know\".\n",
    "    \n",
    "    Question: {question.strip()}\n",
    "    \n",
    "    Context: \n",
    "    {context.strip()}\n",
    "    \n",
    "    Answer:\n",
    "    \"\"\"\n",
    "\n",
    "    return query_deepseek(metaprompt)"
   ]
  },
  {
   "cell_type": "markdown",
   "id": "86fecd76-9a0b-4ad1-9097-b1d292a618ac",
   "metadata": {},
   "source": [
    "Now it's easier to ask a broad range of questions."
   ]
  },
  {
   "cell_type": "code",
   "execution_count": 20,
   "id": "aa0fdead-a115-4fcd-88dc-5cc718dc0544",
   "metadata": {},
   "outputs": [
    {
     "data": {
      "text/plain": [
       "'The stack for a web API can include the following components based on the provided context:\\n\\n1. **Web Framework**: FastAPI can be used as the web framework for building the API. It is modern, fast, and leverages Python type hints for better development and performance.\\n\\n2. **Reverse Proxy/Web Server**: NGINX can be used as a reverse proxy or web server to handle incoming HTTP requests, load balancing, and serving static content. It is known for its high performance and low resource consumption.\\n\\n3. **Containerization**: Docker can be used to containerize the application, making it easier to build, share, and run the API consistently across different environments without worrying about configuration issues.\\n\\nThis stack provides a robust, scalable, and efficient setup for building and deploying a web API.'"
      ]
     },
     "execution_count": 20,
     "metadata": {},
     "output_type": "execute_result"
    }
   ],
   "source": [
    "rag(\"What can the stack for a web api look like?\")"
   ]
  },
  {
   "cell_type": "code",
   "execution_count": 23,
   "id": "7324c127-c140-410a-ab19-87a5babce023",
   "metadata": {},
   "outputs": [
    {
     "data": {
      "text/plain": [
       "\"I don't know. The provided context does not contain any information about the location of the nearest grocery store.\""
      ]
     },
     "execution_count": 23,
     "metadata": {},
     "output_type": "execute_result"
    }
   ],
   "source": [
    "rag(\"Where is the nearest grocery store?\")"
   ]
  },
  {
   "cell_type": "markdown",
   "id": "6fe56730-ed41-42c1-9c33-de3849c60b65",
   "metadata": {},
   "source": [
    "Our model can now:\n",
    "\n",
    "1. Take advantage of the knowledge in our vector datastore.\n",
    "2. Answer, based on the provided context, that it can not provide an answer.\n",
    "\n",
    "We have just shown a useful mechanism to mitigate the risks of hallucinations in Large Language Models."
   ]
  }
 ],
 "metadata": {
  "kernelspec": {
   "display_name": ".venv",
   "language": "python",
   "name": "python3"
  },
  "language_info": {
   "codemirror_mode": {
    "name": "ipython",
    "version": 3
   },
   "file_extension": ".py",
   "mimetype": "text/x-python",
   "name": "python",
   "nbconvert_exporter": "python",
   "pygments_lexer": "ipython3",
   "version": "3.10.15"
  }
 },
 "nbformat": 4,
 "nbformat_minor": 5
}
